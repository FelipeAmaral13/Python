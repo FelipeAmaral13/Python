{
 "cells": [
  {
   "cell_type": "code",
   "execution_count": 1,
   "metadata": {},
   "outputs": [
    {
     "data": {
      "text/plain": [
       "'\\nPode continuar rodando.\\n'"
      ]
     },
     "execution_count": 1,
     "metadata": {},
     "output_type": "execute_result"
    }
   ],
   "source": [
    "import numpy as np\n",
    "from shapely.geometry import Polygon, Point\n",
    "import matplotlib.pyplot as plt\n",
    "import random\n",
    "import pandas as pd\n",
    "from scipy.spatial import distance\n",
    "import seaborn as sns\n",
    "from matplotlib.patches import CirclePolygon, Circle\n",
    "\n",
    "\n",
    "poly = Polygon([(-2.5,5.9),(6,3.5),(9,-3),(6,-6),(-7.75,-3.9)])  #Poligono externo\n",
    "\n",
    "minx, miny, maxx, maxy = poly.bounds \n",
    "\n",
    "pontos =[]\n",
    "# lista_x = []\n",
    "# lista_y = []\n",
    "# lista_candidatos_x = []\n",
    "# lista_candidatos_y = []\n",
    "cont= 500\n",
    "i=0\n",
    "while i < cont:\n",
    "    check=True\n",
    "    while check:\n",
    "        x = None\n",
    "        y = None\n",
    "        x = random.uniform(minx,maxx)\n",
    "        y = random.uniform(miny,maxy)\n",
    "        coords = np.array([(x,y)])\n",
    "#       print(coords)\n",
    "        points = Point(coords[0])#[Point(xy) for xy in coords]\n",
    "#         print(points.within(poly))\n",
    "        \"\"\"\n",
    "        verificar se esta dentro do poligono\n",
    "        \"\"\"\n",
    "        check = False if points.within(poly) else True\n",
    "    pontos.append([x,y])\n",
    "    \"\"\"\n",
    "    Verifico se o ultimo ponto criado respeita a dist. euclidiana\n",
    "    \"\"\"\n",
    "    if len(pontos)>1:\n",
    "        ult_pont = pontos[-1]\n",
    "        flag = True\n",
    "        for i in range(len(pontos)-1):\n",
    "            \n",
    "            flag = flag and (distance.euclidean(pontos[i],ult_pont)>0.1) and (ult_pont != pontos[i])\n",
    "            if not flag: break\n",
    "        if flag == True:\n",
    "            i=i+1\n",
    "        else:\n",
    "            pontos.remove(ult_pont)\n",
    "    else:\n",
    "        i=i+1\n",
    "\n",
    "\"\"\"\n",
    "Pode continuar rodando.\n",
    "\"\"\"        \n",
    "\n",
    "# \"\"\"\n",
    "# Matriz referente as distâncias euclidianas\n",
    "# \"\"\"\n",
    "# mat =np.zeros((len(pontos),len(pontos)))\n",
    "\n",
    "# for l in range(len(pontos)):\n",
    "#     for c in range(len(pontos)):\n",
    "#         if l<c:\n",
    "#             mat[l,c] = distance.euclidean(pontos[l],pontos[c])\n",
    "#             mat[c,l] = mat[l,c]\n",
    "\n",
    "            \n",
    "            \n",
    "#for i in range(len(pontos)):\n",
    "#    print(pontos[i])\n",
    "# print(\"\\n\")\n",
    "# print(mat<0.8)\n",
    "# print(pontos[-1])"
   ]
  },
  {
   "cell_type": "markdown",
   "metadata": {},
   "source": [
    "### Pontos criados dentro do poligono respeitando a distância euclidiana proposta"
   ]
  },
  {
   "cell_type": "code",
   "execution_count": 12,
   "metadata": {},
   "outputs": [],
   "source": [
    "f = open('Pontos.txt', 'a')  #Arquivo dos pontos criados\n",
    "\n",
    "for i in range(len(pontos)):\n",
    "#     print(pontos[i])\n",
    "    np.savetxt(f, [pontos[i]], delimiter=',',  newline='\\n',fmt='%1.12f')"
   ]
  },
  {
   "cell_type": "markdown",
   "metadata": {},
   "source": [
    "### Plot dos pontos dentro do poligono"
   ]
  },
  {
   "cell_type": "code",
   "execution_count": null,
   "metadata": {},
   "outputs": [],
   "source": [
    "pontos = np.array(pontos)\n",
    "\n",
    "x,y = poly.exterior.xy\n",
    "\n",
    "fig = plt.figure(1, figsize=(18,13), dpi=90)\n",
    "plt.scatter(pontos[:,0],pontos[:,1])\n",
    "plt.plot(x, y, color='red',linewidth=1, scalex=True, scaley=True)\n",
    "circle = Circle((0, 0),  5, fill=False)\n",
    "# circle = CirclePolygon((0, 0), radius = 5, fill=False)\n",
    "plt.gca().add_patch(circle)\n",
    "plt.grid(True)\n",
    "plt.show()\n",
    "\n"
   ]
  },
  {
   "cell_type": "markdown",
   "metadata": {},
   "source": [
    "### Média dos pontos criados"
   ]
  },
  {
   "cell_type": "code",
   "execution_count": null,
   "metadata": {},
   "outputs": [],
   "source": [
    "pontos = np.array(pontos)\n",
    "media = np.mean(pontos, axis=0)\n",
    "media"
   ]
  },
  {
   "cell_type": "markdown",
   "metadata": {},
   "source": [
    "### Mediana dos pontos criados"
   ]
  },
  {
   "cell_type": "code",
   "execution_count": null,
   "metadata": {},
   "outputs": [],
   "source": [
    "mediana = np.median(pontos, axis=0)\n",
    "mediana"
   ]
  },
  {
   "cell_type": "markdown",
   "metadata": {},
   "source": [
    "### Centro de massa do poligono"
   ]
  },
  {
   "cell_type": "code",
   "execution_count": null,
   "metadata": {},
   "outputs": [],
   "source": [
    "centro_geo = [1, -0.5]"
   ]
  },
  {
   "cell_type": "markdown",
   "metadata": {},
   "source": [
    "### Ponto mais profundo (calculado no C)"
   ]
  },
  {
   "cell_type": "code",
   "execution_count": null,
   "metadata": {},
   "outputs": [],
   "source": [
    "maisprof = pontos[[141]]\n",
    "maisprof"
   ]
  },
  {
   "cell_type": "markdown",
   "metadata": {},
   "source": [
    "### X% dos pontos mais profundos"
   ]
  },
  {
   "cell_type": "code",
   "execution_count": null,
   "metadata": {},
   "outputs": [],
   "source": [
    "prof_5 = pontos[[141,\n",
    "35,\n",
    "308,\n",
    "50,\n",
    "484,\n",
    "155\n",
    "]]\n",
    "prof_5\n"
   ]
  },
  {
   "cell_type": "markdown",
   "metadata": {},
   "source": [
    "### Média dos pontos X% mais profundos"
   ]
  },
  {
   "cell_type": "code",
   "execution_count": null,
   "metadata": {},
   "outputs": [],
   "source": [
    "med_prof_5 = np.mean(prof_5, axis=0)"
   ]
  },
  {
   "cell_type": "markdown",
   "metadata": {},
   "source": [
    "### Mediana de Tukey (calculado no R)"
   ]
  },
  {
   "cell_type": "code",
   "execution_count": null,
   "metadata": {},
   "outputs": [],
   "source": [
    "tukey = [1.1167020, -0.6131579]"
   ]
  },
  {
   "cell_type": "code",
   "execution_count": null,
   "metadata": {},
   "outputs": [],
   "source": [
    "svm = [0,0]"
   ]
  },
  {
   "cell_type": "code",
   "execution_count": null,
   "metadata": {},
   "outputs": [],
   "source": [
    "# circle = CirclePolygon((0, 0), radius = 5, fill=False, antialiased=False)\n",
    "circle = Circle((0, 0),  5, fill=False)\n",
    "\n",
    "pontos = np.array(pontos)\n",
    "\n",
    "x,y = poly.exterior.xy\n",
    "\n",
    "fig = plt.figure(1, figsize=(18,13), dpi=300)\n",
    "plt.scatter(pontos[:,0],pontos[:,1], c='bisque')\n",
    "plt.scatter(media[0], media[1], c='black', label='Media de todos os pontos')\n",
    "plt.scatter(mediana[0], mediana[1], c='brown', label='Mediana de todos os pontos')\n",
    "plt.scatter(prof_5[:,0], prof_5[:,1], c='green', label='Pontos com profundidade 5%')\n",
    "plt.scatter(tukey[0], tukey[1], c='yellow', label='Mediana de Tukey')\n",
    "plt.scatter(med_prof_5[0], med_prof_5[1], c='silver', label='Media dos pontos 5% mais profundos')\n",
    "plt.scatter(maisprof[:,0], maisprof[:,1], c='purple', label='Ponto mais profundo')\n",
    "plt.scatter(centro_geo[0],centro_geo[1], c='deeppink', label='Centro de massa')\n",
    "plt.scatter(svm[0],svm[1], c='olive', label='Centro do SVM')\n",
    "plt.plot(x, y, color='red',linewidth=1, scalex=True, scaley=True)\n",
    "plt.gca().add_patch(circle)\n",
    "plt.grid(True)\n",
    "plt.legend(loc='upper left')\n",
    "plt.savefig(\"pontos500_3.png\", bbox_inches='tight')\n",
    "plt.show()"
   ]
  },
  {
   "cell_type": "code",
   "execution_count": null,
   "metadata": {},
   "outputs": [],
   "source": []
  }
 ],
 "metadata": {
  "kernelspec": {
   "display_name": "Python 3",
   "language": "python",
   "name": "python3"
  },
  "language_info": {
   "codemirror_mode": {
    "name": "ipython",
    "version": 3
   },
   "file_extension": ".py",
   "mimetype": "text/x-python",
   "name": "python",
   "nbconvert_exporter": "python",
   "pygments_lexer": "ipython3",
   "version": "3.5.3"
  }
 },
 "nbformat": 4,
 "nbformat_minor": 2
}
