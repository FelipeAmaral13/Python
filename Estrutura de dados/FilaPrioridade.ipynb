{
 "cells": [
  {
   "cell_type": "code",
   "execution_count": 53,
   "metadata": {},
   "outputs": [],
   "source": [
    "class Person:\n",
    "    def __init__(self, name, prior):\n",
    "        self.name = name\n",
    "        self.prior  = prior\n",
    "        \n",
    "    def getName(self):\n",
    "        return self.name\n",
    "    \n",
    "    def getPrior(self):\n",
    "        return self.prior\n",
    "    \n",
    "class FilaPrioridade:\n",
    "    def __init__(self):\n",
    "        self.fp = []\n",
    "        self.len = 0\n",
    "        \n",
    "    def push(self, person):\n",
    "        if self.empty():\n",
    "            self.fp.append(person)\n",
    "        else:\n",
    "            flag_push = False\n",
    "            for i in range(self.len):\n",
    "                if self.fp[i].getPrior() < person.getPrior():\n",
    "                    self.fp.insert(i, person)\n",
    "                    flag_push = True\n",
    "                    break\n",
    "            if not flag_push:\n",
    "                self.fp.insert(self.len, person)\n",
    "        self.len += 1\n",
    "        \n",
    "    def pop(self):\n",
    "        if not self.empty():\n",
    "            self.fp.pop(0)\n",
    "            self.len -= 1\n",
    "\n",
    "    def empty(self):\n",
    "        if self.len == 0:\n",
    "            return True\n",
    "        return False\n",
    "\n",
    "    def show(self):\n",
    "        for p in self.fp:\n",
    "            print('Nome: %s' % p.getName())\n",
    "            print('Prioridade: %d\\n' % p.getPrior())\n",
    "\n"
   ]
  },
  {
   "cell_type": "code",
   "execution_count": 54,
   "metadata": {},
   "outputs": [],
   "source": [
    "# criando os objetos Person\n",
    "p1 = Person('Marcos', 28)\n",
    "p2 = Person('Catarina', 3)\n",
    "p3 = Person('Pedro', 20)\n",
    "p4 = Person('João', 35)\n",
    "\n",
    "# criando a fila de prioridades e inserindo os elementos\n",
    "fp = FilaPrioridade()\n",
    "fp.push(p1)\n",
    "fp.push(p2)\n",
    "fp.push(p3)\n",
    "fp.push(p4)"
   ]
  },
  {
   "cell_type": "code",
   "execution_count": 55,
   "metadata": {},
   "outputs": [
    {
     "name": "stdout",
     "output_type": "stream",
     "text": [
      "Exibindo após as inserções:\n",
      "\n",
      "Nome: João\n",
      "Prioridade: 35\n",
      "\n",
      "Nome: Marcos\n",
      "Prioridade: 28\n",
      "\n",
      "Nome: Pedro\n",
      "Prioridade: 20\n",
      "\n",
      "Nome: Catarina\n",
      "Prioridade: 3\n",
      "\n"
     ]
    }
   ],
   "source": [
    "print('Exibindo após as inserções:\\n')\n",
    "fp.show() # João, Marcos, Pedro, Catarina\n"
   ]
  },
  {
   "cell_type": "code",
   "execution_count": 50,
   "metadata": {},
   "outputs": [],
   "source": [
    "# removendo elementos\n",
    "fp.pop()\n",
    "fp.pop()"
   ]
  },
  {
   "cell_type": "code",
   "execution_count": 51,
   "metadata": {},
   "outputs": [
    {
     "name": "stdout",
     "output_type": "stream",
     "text": [
      "Exibindo após as remoções:\n",
      "\n",
      "Nome: Pedro\n",
      "Prioridade: 20\n",
      "\n",
      "Nome: Catarina\n",
      "Prioridade: 3\n",
      "\n"
     ]
    }
   ],
   "source": [
    "print('Exibindo após as remoções:\\n')\n",
    "fp.show() # Pedro, Catarina"
   ]
  },
  {
   "cell_type": "code",
   "execution_count": 52,
   "metadata": {},
   "outputs": [
    {
     "name": "stdout",
     "output_type": "stream",
     "text": [
      "Exibindo após a inserção:\n",
      "\n",
      "Nome: Goku\n",
      "Prioridade: 30\n",
      "\n",
      "Nome: Pedro\n",
      "Prioridade: 20\n",
      "\n",
      "Nome: Catarina\n",
      "Prioridade: 3\n",
      "\n"
     ]
    }
   ],
   "source": [
    "# inserindo um novo elementos\n",
    "fp.push(Person('Goku', 30))\n",
    "print('Exibindo após a inserção:\\n')\n",
    "fp.show() # Goku, Pedro, Catarina"
   ]
  },
  {
   "cell_type": "code",
   "execution_count": null,
   "metadata": {},
   "outputs": [],
   "source": []
  }
 ],
 "metadata": {
  "kernelspec": {
   "display_name": "Python 3",
   "language": "python",
   "name": "python3"
  },
  "language_info": {
   "codemirror_mode": {
    "name": "ipython",
    "version": 3
   },
   "file_extension": ".py",
   "mimetype": "text/x-python",
   "name": "python",
   "nbconvert_exporter": "python",
   "pygments_lexer": "ipython3",
   "version": "3.7.2"
  }
 },
 "nbformat": 4,
 "nbformat_minor": 2
}
