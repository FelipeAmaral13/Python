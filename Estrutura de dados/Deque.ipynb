{
 "cells": [
  {
   "cell_type": "code",
   "execution_count": 39,
   "metadata": {},
   "outputs": [],
   "source": [
    "class Deque:\n",
    "    \n",
    "    def __init__(self):\n",
    "        self.deque = []\n",
    "        self.len = 0\n",
    "        \n",
    "        \n",
    "    def push_front(self, e):\n",
    "        self.deque.insert(0, e)\n",
    "        self.len += 1\n",
    "        \n",
    "    \n",
    "    def push_back(self, e):\n",
    "        self.deque.insert(self.len, e)\n",
    "        self.len += 1\n",
    "        \n",
    "    def pop_front(self):\n",
    "        if not self.empty():\n",
    "            self.deque.pop(0)\n",
    "            self.len -= 1\n",
    "        \n",
    "    def pop_back(self):\n",
    "            if not self.empty():\n",
    "                self.deque.pop(self.len - 1)\n",
    "                self.len -= 1\n",
    "        \n",
    "    def empty(self):\n",
    "        if (self.len == 0):\n",
    "            return True\n",
    "        return False\n",
    "    \n",
    "    def elementos(self):\n",
    "        if not self.empty():\n",
    "            print(self.deque)\n",
    "        return None"
   ]
  },
  {
   "cell_type": "code",
   "execution_count": 48,
   "metadata": {},
   "outputs": [
    {
     "name": "stdout",
     "output_type": "stream",
     "text": [
      "[12, 1, 3]\n"
     ]
    }
   ],
   "source": [
    "d = Deque()\n",
    "d.push_front(1)\n",
    "d.push_front(12)\n",
    "d.push_back(3)\n",
    "d.elementos()"
   ]
  },
  {
   "cell_type": "code",
   "execution_count": 49,
   "metadata": {},
   "outputs": [
    {
     "name": "stdout",
     "output_type": "stream",
     "text": [
      "[1, 3]\n"
     ]
    }
   ],
   "source": [
    "d.pop_front()\n",
    "d.elementos()"
   ]
  },
  {
   "cell_type": "code",
   "execution_count": 50,
   "metadata": {},
   "outputs": [
    {
     "name": "stdout",
     "output_type": "stream",
     "text": [
      "[1]\n"
     ]
    }
   ],
   "source": [
    "d.pop_back()\n",
    "d.elementos()"
   ]
  },
  {
   "cell_type": "code",
   "execution_count": null,
   "metadata": {},
   "outputs": [],
   "source": []
  }
 ],
 "metadata": {
  "kernelspec": {
   "display_name": "Python 3",
   "language": "python",
   "name": "python3"
  },
  "language_info": {
   "codemirror_mode": {
    "name": "ipython",
    "version": 3
   },
   "file_extension": ".py",
   "mimetype": "text/x-python",
   "name": "python",
   "nbconvert_exporter": "python",
   "pygments_lexer": "ipython3",
   "version": "3.7.2"
  }
 },
 "nbformat": 4,
 "nbformat_minor": 2
}
