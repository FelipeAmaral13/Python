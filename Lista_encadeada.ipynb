{
 "cells": [
  {
   "cell_type": "code",
   "execution_count": 46,
   "metadata": {},
   "outputs": [],
   "source": [
    "class Node:\n",
    "    def __init__(self, initial_data):\n",
    "        self.data = initial_data\n",
    "        self.next = None\n",
    "        \n",
    "    def get_data(self):\n",
    "        return self.data\n",
    "    \n",
    "    def set_data(self, new_data):\n",
    "        self.data = new_data\n",
    "        \n",
    "    def get_next(self):\n",
    "        return self.next\n",
    "    \n",
    "    def set_next(self, new_next):\n",
    "        self.next = new_next\n",
    "        \n",
    "        \n",
    "class LinkedList:\n",
    "    \n",
    "    def __init__(self):\n",
    "        self.head = None\n",
    "        \n",
    "    def is_empty(self):\n",
    "        if (self.head == 0):\n",
    "            return None\n",
    "    \n",
    "    def add(self, data):\n",
    "        \"\"\"\n",
    " O primeiro passo é criar o node com um valor e apontar o next para \n",
    "o head. O segundo passo é fazer o head apontar para o primeiro node, \n",
    "que é o recém adicionado.\n",
    "        \"\"\"\n",
    "        node = Node(data)\n",
    "        node.set_next(self.head)\n",
    "        self.head = node\n",
    "     \n",
    "    def size(self):\n",
    "        count = 0\n",
    "        current = self.head\n",
    "        while current != None:\n",
    "            count +=1\n",
    "            current  = current.get_next()\n",
    "        return count\n",
    "     \n",
    "    def search(self, data):\n",
    "        current = self.head\n",
    "        found = False\n",
    "        \n",
    "        while current != None and not found:\n",
    "            if current.get_data() == data:\n",
    "                return True\n",
    "            else:\n",
    "                current = current.get_next()\n",
    "                \n",
    "            return found\n",
    "        \n",
    "    def remove(self, data):\n",
    "        current = self.head\n",
    "        previous = None\n",
    "        found = False\n",
    "        \n",
    "        while not found:\n",
    "            if current.get_data() == data:\n",
    "                found = True\n",
    "            else:\n",
    "                previous = current\n",
    "                current = current.get_next()\n",
    "            \n",
    "        if previous == None:\n",
    "            self.head = current.get_next()\n",
    "        else:\n",
    "            previous.set_next(current.get_next())\n",
    "            \n",
    "                "
   ]
  },
  {
   "cell_type": "code",
   "execution_count": 47,
   "metadata": {},
   "outputs": [
    {
     "name": "stdout",
     "output_type": "stream",
     "text": [
      "10\n",
      "None\n",
      "30\n",
      "None\n"
     ]
    }
   ],
   "source": [
    "node1=Node(10)\n",
    "node2=Node(20)\n",
    "\n",
    "print (node1.get_data())\n",
    "print (node1.get_next())\n",
    "\n",
    "node1.set_data(30)\n",
    "node1.set_next(node2)\n",
    "\n",
    "print (node1.get_data())\n",
    "print (node1.set_next(node2))"
   ]
  },
  {
   "cell_type": "code",
   "execution_count": 48,
   "metadata": {},
   "outputs": [
    {
     "data": {
      "text/plain": [
       "False"
      ]
     },
     "execution_count": 48,
     "metadata": {},
     "output_type": "execute_result"
    }
   ],
   "source": [
    "linked_list = LinkedList()\n",
    "linked_list.add(77)\n",
    "linked_list.add(83)\n",
    "linked_list.add(3)\n",
    "linked_list.size()\n",
    "linked_list.search(12)"
   ]
  },
  {
   "cell_type": "code",
   "execution_count": 49,
   "metadata": {},
   "outputs": [],
   "source": [
    "linked_list.remove(3)"
   ]
  },
  {
   "cell_type": "code",
   "execution_count": null,
   "metadata": {},
   "outputs": [],
   "source": []
  }
 ],
 "metadata": {
  "kernelspec": {
   "display_name": "Python 3",
   "language": "python",
   "name": "python3"
  },
  "language_info": {
   "codemirror_mode": {
    "name": "ipython",
    "version": 3
   },
   "file_extension": ".py",
   "mimetype": "text/x-python",
   "name": "python",
   "nbconvert_exporter": "python",
   "pygments_lexer": "ipython3",
   "version": "3.7.2"
  }
 },
 "nbformat": 4,
 "nbformat_minor": 2
}
